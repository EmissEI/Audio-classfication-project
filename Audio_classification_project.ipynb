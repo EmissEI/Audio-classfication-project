{
 "cells": [
  {
   "cell_type": "markdown",
   "metadata": {},
   "source": [
    "### 1. Import libary"
   ]
  },
  {
   "cell_type": "code",
   "execution_count": 234,
   "metadata": {},
   "outputs": [],
   "source": [
    "import os\n",
    "from matplotlib import pyplot as plt\n",
    "import tensorflow as tf \n",
    "import tensorflow_io as tfio"
   ]
  },
  {
   "cell_type": "markdown",
   "metadata": {},
   "source": [
    "### 2. Build data loading function"
   ]
  },
  {
   "cell_type": "markdown",
   "metadata": {},
   "source": [
    "2.1 Define Paths to Files"
   ]
  },
  {
   "cell_type": "code",
   "execution_count": 235,
   "metadata": {},
   "outputs": [],
   "source": [
    "# Define certain file locations for testing\n",
    "BUS = os.path.join('Data', 'Bus', 'Bus (1).wav')\n",
    "TRAM = os.path.join('Data', 'Tram', 'Tram (1).wav')"
   ]
  },
  {
   "cell_type": "code",
   "execution_count": 236,
   "metadata": {},
   "outputs": [
    {
     "data": {
      "text/plain": [
       "'Data\\\\Bus\\\\Bus (1).wav'"
      ]
     },
     "execution_count": 236,
     "metadata": {},
     "output_type": "execute_result"
    }
   ],
   "source": [
    "BUS"
   ]
  },
  {
   "cell_type": "markdown",
   "metadata": {},
   "source": [
    "2.2 Build data loading funtion"
   ]
  },
  {
   "cell_type": "code",
   "execution_count": 237,
   "metadata": {},
   "outputs": [],
   "source": [
    "def load_wav_16k_mono(filename):\n",
    "    # Load encoded wav file\n",
    "    file_contents = tf.io.read_file(filename)\n",
    "    # Decode wav (tensors by channels) \n",
    "    wav, sample_rate = tf.audio.decode_wav(file_contents, desired_channels=1)\n",
    "    # Removes trailing axis\n",
    "    wav = tf.squeeze(wav, axis=-1)\n",
    "    sample_rate = tf.cast(sample_rate, dtype=tf.int64)\n",
    "    # Goes from sample_rate to 16000hz - amplitude of the audio signal\n",
    "    wav = tfio.audio.resample(wav, rate_in=sample_rate, rate_out=16000)\n",
    "    return wav"
   ]
  },
  {
   "cell_type": "markdown",
   "metadata": {},
   "source": [
    "2.3 Plot wave"
   ]
  },
  {
   "cell_type": "code",
   "execution_count": 238,
   "metadata": {},
   "outputs": [],
   "source": [
    "bus_w = load_wav_16k_mono(BUS)\n",
    "tram_w = load_wav_16k_mono(TRAM)"
   ]
  },
  {
   "cell_type": "code",
   "execution_count": 239,
   "metadata": {},
   "outputs": [
    {
     "data": {
      "image/png": "[encoded data removed]",
      "text/plain": [
       "<Figure size 432x288 with 1 Axes>"
      ]
     },
     "metadata": {
      "needs_background": "light"
     },
     "output_type": "display_data"
    }
   ],
   "source": [
    "plt.plot(tram_w)\n",
    "plt.plot(bus_w)\n",
    "plt.show()"
   ]
  },
  {
   "cell_type": "markdown",
   "metadata": {},
   "source": [
    "### 3. Create tensorflow dataset"
   ]
  },
  {
   "cell_type": "markdown",
   "metadata": {},
   "source": [
    "3.1 Define path to data (Positive and negative)\n"
   ]
  },
  {
   "cell_type": "code",
   "execution_count": 240,
   "metadata": {},
   "outputs": [],
   "source": [
    "# Using BUS as postive data and TRAM as negative data\n",
    "POS = os.path.join('Data','Bus')\n",
    "NEG = os.path.join('Data','Tram')"
   ]
  },
  {
   "cell_type": "markdown",
   "metadata": {},
   "source": [
    "3.2 Create tensor flow data set"
   ]
  },
  {
   "cell_type": "code",
   "execution_count": 241,
   "metadata": {},
   "outputs": [],
   "source": [
    "pos = tf.data.Dataset.list_files(POS+'\\*.wav')\n",
    "neg = tf.data.Dataset.list_files(NEG+'\\*.wav')"
   ]
  },
  {
   "cell_type": "code",
   "execution_count": 242,
   "metadata": {},
   "outputs": [
    {
     "data": {
      "text/plain": [
       "273"
      ]
     },
     "execution_count": 242,
     "metadata": {},
     "output_type": "execute_result"
    }
   ],
   "source": [
    "len(pos)"
   ]
  },
  {
   "cell_type": "code",
   "execution_count": 243,
   "metadata": {},
   "outputs": [
    {
     "data": {
      "text/plain": [
       "389"
      ]
     },
     "execution_count": 243,
     "metadata": {},
     "output_type": "execute_result"
    }
   ],
   "source": [
    "len(neg)"
   ]
  },
  {
   "cell_type": "markdown",
   "metadata": {},
   "source": [
    "3.3 Add label and combined negative and postive dataset"
   ]
  },
  {
   "cell_type": "code",
   "execution_count": 244,
   "metadata": {},
   "outputs": [],
   "source": [
    "positives = tf.data.Dataset.zip((pos, tf.data.Dataset.from_tensor_slices(tf.ones(len(pos)))))\n",
    "negatives = tf.data.Dataset.zip((neg, tf.data.Dataset.from_tensor_slices(tf.zeros(len(neg)))))\n",
    "data = positives.concatenate(negatives)"
   ]
  },
  {
   "cell_type": "code",
   "execution_count": 245,
   "metadata": {},
   "outputs": [
    {
     "data": {
      "text/plain": [
       "(b'Data\\\\Bus\\\\Bus (109).wav', 1.0)"
      ]
     },
     "execution_count": 245,
     "metadata": {},
     "output_type": "execute_result"
    }
   ],
   "source": [
    "data.shuffle(1000).as_numpy_iterator().next()"
   ]
  },
  {
   "cell_type": "markdown",
   "metadata": {},
   "source": [
    "### 4. Determine average length"
   ]
  },
  {
   "cell_type": "markdown",
   "metadata": {},
   "source": [
    "4.1 Calculate wave cylcle length"
   ]
  },
  {
   "cell_type": "code",
   "execution_count": 246,
   "metadata": {},
   "outputs": [],
   "source": [
    "lengths = []\n",
    "for file in os.listdir(os.path.join('Data', 'Bus')):\n",
    "    # print(file)\n",
    "    tensor_wave = load_wav_16k_mono(os.path.join('Data', 'Bus', file))\n",
    "    lengths.append(len(tensor_wave))"
   ]
  },
  {
   "cell_type": "markdown",
   "metadata": {},
   "source": [
    "4.2 Calculate MIN MAX MEAN"
   ]
  },
  {
   "cell_type": "code",
   "execution_count": 247,
   "metadata": {},
   "outputs": [
    {
     "data": {
      "text/plain": [
       "<tf.Tensor: shape=(), dtype=int32, numpy=92770>"
      ]
     },
     "execution_count": 247,
     "metadata": {},
     "output_type": "execute_result"
    }
   ],
   "source": [
    "tf.math.reduce_mean(lengths)"
   ]
  },
  {
   "cell_type": "code",
   "execution_count": 248,
   "metadata": {},
   "outputs": [
    {
     "data": {
      "text/plain": [
       "<tf.Tensor: shape=(), dtype=int32, numpy=291840>"
      ]
     },
     "execution_count": 248,
     "metadata": {},
     "output_type": "execute_result"
    }
   ],
   "source": [
    "tf.math.reduce_max(lengths)"
   ]
  },
  {
   "cell_type": "code",
   "execution_count": 249,
   "metadata": {},
   "outputs": [
    {
     "data": {
      "text/plain": [
       "<tf.Tensor: shape=(), dtype=int32, numpy=50517>"
      ]
     },
     "execution_count": 249,
     "metadata": {},
     "output_type": "execute_result"
    }
   ],
   "source": [
    "tf.math.reduce_min(lengths)"
   ]
  },
  {
   "cell_type": "markdown",
   "metadata": {},
   "source": [
    "### 5. Build preprocessing function to Convert to Spectrogram"
   ]
  },
  {
   "cell_type": "markdown",
   "metadata": {},
   "source": [
    "5.1 Preprocessing funtion"
   ]
  },
  {
   "cell_type": "code",
   "execution_count": 250,
   "metadata": {},
   "outputs": [],
   "source": [
    "def preprocess(file_path, label): \n",
    "    wav = load_wav_16k_mono(file_path)\n",
    "    wav = wav[:48000]\n",
    "    zero_padding = tf.zeros([48000] - tf.shape(wav), dtype=tf.float32)\n",
    "    wav = tf.concat([zero_padding, wav],0)\n",
    "    spectrogram = tf.signal.stft(wav, frame_length=320, frame_step=32)\n",
    "    spectrogram = tf.abs(spectrogram)\n",
    "    spectrogram = tf.expand_dims(spectrogram, axis=2)\n",
    "    return spectrogram, label"
   ]
  },
  {
   "cell_type": "code",
   "execution_count": 251,
   "metadata": {},
   "outputs": [],
   "source": [
    "import tensorflow as tf\n",
    "\n",
    "def preprocess_mel_spectrogram_main(file_path, label):\n",
    "    wav = load_wav_16k_mono(file_path)\n",
    "    wav = wav[:92000]\n",
    "    zero_padding = tf.zeros([92000] - tf.shape(wav), dtype=tf.float32)\n",
    "    wav = tf.concat([zero_padding, wav], 0)\n",
    "    stft = tf.signal.stft(wav, frame_length=320, frame_step=32)\n",
    "    spectrogram = tf.abs(stft)\n",
    "    \n",
    "    # Convert linear spectrogram to Mel spectrogram\n",
    "    mel_filterbank = tf.signal.linear_to_mel_weight_matrix(\n",
    "        num_mel_bins=128,\n",
    "        num_spectrogram_bins=257,\n",
    "        sample_rate=16000,\n",
    "        lower_edge_hertz=0,\n",
    "        upper_edge_hertz=8000\n",
    "    )\n",
    "    mel_spectrogram = tf.matmul(tf.square(spectrogram), mel_filterbank)\n",
    "    mel_spectrogram = tf.expand_dims(mel_spectrogram, axis=2)\n",
    "    \n",
    "    return mel_spectrogram, label"
   ]
  },
  {
   "cell_type": "code",
   "execution_count": 252,
   "metadata": {},
   "outputs": [
    {
     "data": {
      "text/plain": [
       "<tf.Tensor: shape=(114688,), dtype=float32, numpy=\n",
       "array([ 0.0000000e+00, -2.3574648e-10,  3.2244460e-10, ...,\n",
       "        1.6666979e-01,  1.8408774e-01,  2.0094502e-01], dtype=float32)>"
      ]
     },
     "execution_count": 252,
     "metadata": {},
     "output_type": "execute_result"
    }
   ],
   "source": [
    "wav = load_wav_16k_mono(BUS)\n",
    "wav\n"
   ]
  },
  {
   "cell_type": "markdown",
   "metadata": {},
   "source": [
    "5.2 Test out function"
   ]
  },
  {
   "cell_type": "code",
   "execution_count": 253,
   "metadata": {},
   "outputs": [
    {
     "data": {
      "image/png": "[encoded data removed]",
      "text/plain": [
       "<Figure size 2160x1440 with 1 Axes>"
      ]
     },
     "metadata": {
      "needs_background": "light"
     },
     "output_type": "display_data"
    }
   ],
   "source": [
    "filepath, label = positives.shuffle(buffer_size=10000).as_numpy_iterator().next()\n",
    "spectrogram, label = preprocess(filepath, label)\n",
    "plt.figure(figsize=(30,20))\n",
    "plt.imshow(tf.transpose(spectrogram)[0])\n",
    "plt.show()"
   ]
  },
  {
   "cell_type": "markdown",
   "metadata": {},
   "source": [
    "### 6. Create Training and Testing Partitions"
   ]
  },
  {
   "cell_type": "markdown",
   "metadata": {},
   "source": [
    "6.1 Create tensorflow data pipeline"
   ]
  },
  {
   "cell_type": "code",
   "execution_count": 254,
   "metadata": {},
   "outputs": [
    {
     "name": "stdout",
     "output_type": "stream",
     "text": [
      "WARNING:tensorflow:Using a while_loop for converting IO>AudioResample\n"
     ]
    }
   ],
   "source": [
    "data = data.map(preprocess_mel_spectrogram_main)\n",
    "data = data.cache()\n",
    "data = data.shuffle(buffer_size=1000)   \n",
    "data = data.batch(16)\n",
    "data = data.prefetch(8)"
   ]
  },
  {
   "cell_type": "markdown",
   "metadata": {},
   "source": [
    "6.2 Split into training and testing patition"
   ]
  },
  {
   "cell_type": "code",
   "execution_count": 255,
   "metadata": {},
   "outputs": [
    {
     "data": {
      "text/plain": [
       "29.4"
      ]
     },
     "execution_count": 255,
     "metadata": {},
     "output_type": "execute_result"
    }
   ],
   "source": [
    "len(data)*.7"
   ]
  },
  {
   "cell_type": "code",
   "execution_count": 256,
   "metadata": {},
   "outputs": [],
   "source": [
    "train = data.take(29)\n",
    "test = data.skip(29).take(12)"
   ]
  },
  {
   "cell_type": "markdown",
   "metadata": {},
   "source": [
    "6.3 Test one batch:"
   ]
  },
  {
   "cell_type": "code",
   "execution_count": 257,
   "metadata": {},
   "outputs": [],
   "source": [
    "samples, labels = train.as_numpy_iterator().next()"
   ]
  },
  {
   "cell_type": "code",
   "execution_count": 258,
   "metadata": {},
   "outputs": [
    {
     "data": {
      "text/plain": [
       "(16, 2866, 128, 1)"
      ]
     },
     "execution_count": 258,
     "metadata": {},
     "output_type": "execute_result"
    }
   ],
   "source": [
    "samples.shape"
   ]
  },
  {
   "cell_type": "markdown",
   "metadata": {},
   "source": [
    "### 7. Build model"
   ]
  },
  {
   "cell_type": "markdown",
   "metadata": {},
   "source": [
    "7.1 Load tensor flow dependencies"
   ]
  },
  {
   "cell_type": "code",
   "execution_count": 259,
   "metadata": {},
   "outputs": [],
   "source": [
    "from tensorflow.keras.models import Sequential\n",
    "from tensorflow.keras.layers import Conv2D, Flatten, Dense, MaxPooling2D\n"
   ]
  },
  {
   "cell_type": "markdown",
   "metadata": {},
   "source": [
    "7.2 Build Model, complie and view sumary"
   ]
  },
  {
   "cell_type": "code",
   "execution_count": 279,
   "metadata": {},
   "outputs": [],
   "source": [
    "model = Sequential()\n",
    "\n",
    "model.add(Conv2D(16, (3, 3), activation='relu', input_shape=(2866, 128, 1)))\n",
    "model.add(MaxPooling2D(pool_size=(3, 3)))\n",
    "model.add(Conv2D(16, (3, 3), activation='relu'))\n",
    "model.add(MaxPooling2D(pool_size=(3, 3)))\n",
    "\n",
    "# Flatten layer\n",
    "model.add(Flatten())\n",
    "\n",
    "model.add(Dense(128, activation='relu'))\n",
    "model.add(Dense(1, activation='sigmoid'))\n"
   ]
  },
  {
   "cell_type": "code",
   "execution_count": 280,
   "metadata": {},
   "outputs": [],
   "source": [
    "model.compile('Adam', loss='BinaryCrossentropy', metrics=[tf.keras.metrics.Recall(),tf.keras.metrics.Precision()])"
   ]
  },
  {
   "cell_type": "code",
   "execution_count": 281,
   "metadata": {},
   "outputs": [
    {
     "name": "stdout",
     "output_type": "stream",
     "text": [
      "Model: \"sequential_15\"\n",
      "_________________________________________________________________\n",
      "Layer (type)                 Output Shape              Param #   \n",
      "=================================================================\n",
      "conv2d_26 (Conv2D)           (None, 2864, 126, 16)     160       \n",
      "_________________________________________________________________\n",
      "max_pooling2d_25 (MaxPooling (None, 954, 42, 16)       0         \n",
      "_________________________________________________________________\n",
      "conv2d_27 (Conv2D)           (None, 952, 40, 16)       2320      \n",
      "_________________________________________________________________\n",
      "max_pooling2d_26 (MaxPooling (None, 317, 13, 16)       0         \n",
      "_________________________________________________________________\n",
      "flatten_8 (Flatten)          (None, 65936)             0         \n",
      "_________________________________________________________________\n",
      "dense_22 (Dense)             (None, 128)               8439936   \n",
      "_________________________________________________________________\n",
      "dense_23 (Dense)             (None, 1)                 129       \n",
      "=================================================================\n",
      "Total params: 8,442,545\n",
      "Trainable params: 8,442,545\n",
      "Non-trainable params: 0\n",
      "_________________________________________________________________\n"
     ]
    }
   ],
   "source": [
    "model.summary()"
   ]
  },
  {
   "cell_type": "markdown",
   "metadata": {},
   "source": [
    "7.3 Fit model, View loss and KPI plots"
   ]
  },
  {
   "cell_type": "code",
   "execution_count": null,
   "metadata": {},
   "outputs": [],
   "source": []
  },
  {
   "cell_type": "code",
   "execution_count": 282,
   "metadata": {},
   "outputs": [
    {
     "name": "stdout",
     "output_type": "stream",
     "text": [
      "Epoch 1/4\n",
      "29/29 [==============================] - 38s 1s/step - loss: 5.6258 - recall_11: 0.6461 - precision_11: 0.7516 - val_loss: 0.5299 - val_recall_11: 0.8108 - val_precision_11: 0.8108\n",
      "Epoch 2/4\n",
      "29/29 [==============================] - 43s 1s/step - loss: 0.4755 - recall_11: 0.8564 - precision_11: 0.8029 - val_loss: 0.2881 - val_recall_11: 0.8625 - val_precision_11: 0.9079\n",
      "Epoch 3/4\n",
      "29/29 [==============================] - 45s 2s/step - loss: 0.2659 - recall_11: 0.8984 - precision_11: 0.9081 - val_loss: 0.1920 - val_recall_11: 0.9765 - val_precision_11: 0.9222\n",
      "Epoch 4/4\n",
      "29/29 [==============================] - 41s 1s/step - loss: 0.1822 - recall_11: 0.9648 - precision_11: 0.9057 - val_loss: 0.1227 - val_recall_11: 0.9500 - val_precision_11: 0.9620\n"
     ]
    }
   ],
   "source": [
    "hist = model.fit(train, epochs=4, validation_data = test)"
   ]
  },
  {
   "cell_type": "code",
   "execution_count": 283,
   "metadata": {},
   "outputs": [
    {
     "data": {
      "image/png": "[encoded data removed]",
      "text/plain": [
       "<Figure size 432x288 with 1 Axes>"
      ]
     },
     "metadata": {
      "needs_background": "light"
     },
     "output_type": "display_data"
    }
   ],
   "source": [
    "plt.title('Loss')\n",
    "plt.plot(hist.history['loss'], 'r')\n",
    "plt.plot(hist.history['val_loss'], 'b')\n",
    "plt.show()"
   ]
  },
  {
   "cell_type": "code",
   "execution_count": 286,
   "metadata": {},
   "outputs": [
    {
     "data": {
      "image/png": "[encoded data removed]",
      "text/plain": [
       "<Figure size 432x288 with 1 Axes>"
      ]
     },
     "metadata": {
      "needs_background": "light"
     },
     "output_type": "display_data"
    }
   ],
   "source": [
    "plt.title('Precision')\n",
    "plt.plot(hist.history['precision_11'], 'r')\n",
    "plt.plot(hist.history['val_precision_11'], 'b')\n",
    "plt.show()"
   ]
  },
  {
   "cell_type": "code",
   "execution_count": 285,
   "metadata": {},
   "outputs": [
    {
     "data": {
      "image/png": "[encoded data removed]",
      "text/plain": [
       "<Figure size 432x288 with 1 Axes>"
      ]
     },
     "metadata": {
      "needs_background": "light"
     },
     "output_type": "display_data"
    }
   ],
   "source": [
    "plt.title('Recall')\n",
    "plt.plot(hist.history['recall_11'], 'r')\n",
    "plt.plot(hist.history['val_recall_11'], 'b')\n",
    "plt.show()"
   ]
  },
  {
   "cell_type": "markdown",
   "metadata": {},
   "source": [
    "# 8. Make a Prediction on a Single Clip"
   ]
  },
  {
   "cell_type": "markdown",
   "metadata": {},
   "source": [
    "8.1 Get One Batch and Make a Prediction"
   ]
  },
  {
   "cell_type": "code",
   "execution_count": 287,
   "metadata": {},
   "outputs": [],
   "source": [
    "x_test, y_test = test.as_numpy_iterator().next()\n",
    "yhat = model.predict(x_test)\n",
    "# yhat\n"
   ]
  },
  {
   "cell_type": "markdown",
   "metadata": {},
   "source": [
    "8.2 Convert Logits to Classes "
   ]
  },
  {
   "cell_type": "code",
   "execution_count": 288,
   "metadata": {},
   "outputs": [
    {
     "data": {
      "text/plain": [
       "<tf.Tensor: shape=(), dtype=int32, numpy=7>"
      ]
     },
     "execution_count": 288,
     "metadata": {},
     "output_type": "execute_result"
    }
   ],
   "source": [
    "yhat = [1 if prediction > 0.5 else 0 for prediction in yhat]\n",
    "yhat\n",
    "\n",
    "tf.math.reduce_sum(yhat)\n",
    "\n"
   ]
  },
  {
   "cell_type": "code",
   "execution_count": 289,
   "metadata": {},
   "outputs": [
    {
     "data": {
      "text/plain": [
       "<tf.Tensor: shape=(), dtype=float32, numpy=7.0>"
      ]
     },
     "execution_count": 289,
     "metadata": {},
     "output_type": "execute_result"
    }
   ],
   "source": [
    "tf.math.reduce_sum(y_test)"
   ]
  },
  {
   "cell_type": "code",
   "execution_count": 305,
   "metadata": {},
   "outputs": [
    {
     "name": "stdout",
     "output_type": "stream",
     "text": [
      "1/1 [==============================] - 0s 165ms/step - loss: 0.0794 - recall_11: 1.0000 - precision_11: 1.0000\n",
      "Test Loss: 0.07943633198738098\n",
      "1/1 [==============================] - 0s 171ms/step - loss: 0.1593 - recall_11: 1.0000 - precision_11: 1.0000\n",
      "Test Loss: 0.15925970673561096\n",
      "1/1 [==============================] - 0s 163ms/step - loss: 0.1026 - recall_11: 1.0000 - precision_11: 1.0000\n",
      "Test Loss: 0.10262840986251831\n",
      "1/1 [==============================] - 0s 171ms/step - loss: 0.1615 - recall_11: 1.0000 - precision_11: 0.9000\n",
      "Test Loss: 0.16152948141098022\n",
      "1/1 [==============================] - 0s 196ms/step - loss: 0.0900 - recall_11: 1.0000 - precision_11: 1.0000\n",
      "Test Loss: 0.09003802388906479\n",
      "1/1 [==============================] - 0s 211ms/step - loss: 0.1606 - recall_11: 1.0000 - precision_11: 1.0000\n",
      "Test Loss: 0.16062280535697937\n",
      "1/1 [==============================] - 0s 204ms/step - loss: 0.1115 - recall_11: 1.0000 - precision_11: 1.0000\n",
      "Test Loss: 0.11149687319993973\n",
      "1/1 [==============================] - 0s 224ms/step - loss: 0.0717 - recall_11: 1.0000 - precision_11: 1.0000\n",
      "Test Loss: 0.07165473699569702\n",
      "1/1 [==============================] - 0s 230ms/step - loss: 0.1242 - recall_11: 0.8333 - precision_11: 1.0000\n",
      "Test Loss: 0.12424679100513458\n",
      "1/1 [==============================] - 0s 216ms/step - loss: 0.0970 - recall_11: 1.0000 - precision_11: 1.0000\n",
      "Test Loss: 0.09698636084794998\n",
      "1/1 [==============================] - 0s 272ms/step - loss: 0.1632 - recall_11: 0.7143 - precision_11: 1.0000\n",
      "Test Loss: 0.16316211223602295\n",
      "1/1 [==============================] - 0s 235ms/step - loss: 0.1603 - recall_11: 1.0000 - precision_11: 0.8000\n",
      "Test Loss: 0.16026780009269714\n",
      "Mean Evaluation: 0.9749999990065893\n"
     ]
    }
   ],
   "source": [
    "evaluation_results = []\n",
    "\n",
    "for x_test, y_test in test.as_numpy_iterator():\n",
    "    # Evaluate the model on the test data\n",
    "    evaluation = model.evaluate(x_test, y_test)\n",
    "    \n",
    "    # Append evaluation result to the list\n",
    "    evaluation_results.append(evaluation[2])  # Assuming the evaluation result is a tuple (loss, accuracy), taking the loss value\n",
    "\n",
    "    # Print the test loss and accuracy\n",
    "    print(f'Test Loss: {evaluation[0]}')\n",
    "\n",
    "# Calculate the mean of evaluation results\n",
    "mean_evaluation = sum(evaluation_results) / len(evaluation_results)\n",
    "print(f'Mean Evaluation: {mean_evaluation}')\n"
   ]
  },
  {
   "cell_type": "code",
   "execution_count": 298,
   "metadata": {},
   "outputs": [
    {
     "name": "stdout",
     "output_type": "stream",
     "text": [
      "[[0.7516340017318726, 0.8028846383094788, 0.908108115196228, 0.9056603908538818]]\n"
     ]
    }
   ],
   "source": [
    "print(precision_arr) "
   ]
  },
  {
   "cell_type": "code",
   "execution_count": null,
   "metadata": {},
   "outputs": [],
   "source": []
  },
  {
   "cell_type": "code",
   "execution_count": null,
   "metadata": {},
   "outputs": [],
   "source": []
  },
  {
   "cell_type": "code",
   "execution_count": null,
   "metadata": {},
   "outputs": [],
   "source": []
  },
  {
   "cell_type": "code",
   "execution_count": null,
   "metadata": {},
   "outputs": [],
   "source": []
  },
  {
   "cell_type": "markdown",
   "metadata": {},
   "source": [
    "Helper code"
   ]
  },
  {
   "cell_type": "code",
   "execution_count": null,
   "metadata": {},
   "outputs": [],
   "source": [
    "from pydub import AudioSegment\n",
    "import os\n",
    "\n",
    "def convert_to_16bit(input_dir, output_dir):\n",
    "    # Function to convert files to 16-bit\n",
    "    def convert_file(input_file, output_file):\n",
    "        sound = AudioSegment.from_file(input_file)\n",
    "        sound = sound.set_sample_width(2)  # 16-bit\n",
    "        sound.export(output_file, format=\"wav\")\n",
    "\n",
    "    # Loop through all files in the input directory\n",
    "    for filename in os.listdir(input_dir):\n",
    "        if filename.endswith(\".wav\"):\n",
    "            input_file_path = os.path.join(input_dir, filename)\n",
    "            output_file_path = os.path.join(output_dir, filename)\n",
    "            convert_file(input_file_path, output_file_path)\n",
    "\n",
    "# Example usage:\n",
    "# input_directory = r'path_to_input_directory'\n",
    "# output_directory = r'path_to_output_directory'\n",
    "\n",
    "# convert_to_16bit(input_directory, output_directory)\n"
   ]
  },
  {
   "cell_type": "code",
   "execution_count": null,
   "metadata": {},
   "outputs": [],
   "source": []
  }
 ],
 "metadata": {
  "kernelspec": {
   "display_name": "sgn120",
   "language": "python",
   "name": "python3"
  },
  "language_info": {
   "codemirror_mode": {
    "name": "ipython",
    "version": 3
   },
   "file_extension": ".py",
   "mimetype": "text/x-python",
   "name": "python",
   "nbconvert_exporter": "python",
   "pygments_lexer": "ipython3",
   "version": "3.6.13"
  }
 },
 "nbformat": 4,
 "nbformat_minor": 2
}
